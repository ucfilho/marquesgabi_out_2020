{
  "nbformat": 4,
  "nbformat_minor": 0,
  "metadata": {
    "colab": {
      "name": "Histogram_PSD_out_23_2020.ipynb",
      "provenance": [],
      "collapsed_sections": [],
      "include_colab_link": true
    },
    "kernelspec": {
      "name": "python3",
      "display_name": "Python 3"
    }
  },
  "cells": [
    {
      "cell_type": "markdown",
      "metadata": {
        "id": "view-in-github",
        "colab_type": "text"
      },
      "source": [
        "<a href=\"https://colab.research.google.com/github/ucfilho/marquesgabi_out_2020/blob/main/Histogram_PSD_out_23_2020.ipynb\" target=\"_parent\"><img src=\"https://colab.research.google.com/assets/colab-badge.svg\" alt=\"Open In Colab\"/></a>"
      ]
    },
    {
      "cell_type": "code",
      "metadata": {
        "id": "1IYlE_2bXXrT"
      },
      "source": [
        "import numpy as np\n",
        "import matplotlib.pyplot as plt\n"
      ],
      "execution_count": null,
      "outputs": []
    },
    {
      "cell_type": "code",
      "metadata": {
        "id": "JIGBAfQZWqF7"
      },
      "source": [
        "Size = [1.19,1.00,0.84,0.71,0.59,0.50,0.42,0.35,0.21]\n",
        "Malha = [16,18,20,25,30,35,40,45,70]\n",
        "\n"
      ],
      "execution_count": null,
      "outputs": []
    },
    {
      "cell_type": "code",
      "metadata": {
        "id": "E0noAueaXR56"
      },
      "source": [
        "Diam = [1.4099727692658848, 1.6253102909863077, 1.0455933743863794, 1.5499150150120893, 1.3045457383391752, 1.7317024449568543, 0.9879714730632838, 1.4690171383244242, 0.860327819984153, 1.8121722621403042, 1.1415688046567898, 0.9242709858080813, 1.2541504274128499, 1.9164412402253779, 1.0152108917529987, 1.7121541890435692, 1.7779703730389274, 1.4529505271260634, 1.774328077737169, 1.8157295831316198, 1.0722558997764098, 0.7186529206529547, 1.3367850624049094, 1.4599978614543685, 1.0881887191189286, 1.4258810501077392, 1.3489116676503201, 1.4417805327824509, 1.8691447811056556, 1.408313488869508, 1.3859920797666498, 1.363595457193991, 1.434361908394092, 1.6343255246592054, 1.7183320649834177, 1.1333381373546367, 1.152893015948508, 1.1896074282236642, 0.9306575904309363, 0.8254287300560762, 1.3734317242842915, 1.1777201377073914, 1.5726991267939774, 1.7984536840340808, 1.263008051022663, 1.1416985210147628, 1.7031032543492701, 0.8309438817180219, 0.7901813392765704, 0.9551796029683738, 1.2240732762389415, 0.9208031156876655, 1.7149462299596276, 1.4507564279337715, 1.6029150106323329, 1.7341243841458862, 1.3004376445096995, 1.6750476411690776, 1.167131812532907, 1.6086162851543127, 1.1513901650542921, 1.4261581815809112, 1.3879264730035539, 1.373037731818006, 1.7142930458288315, 1.6062882346382685, 1.0342648345549061, 1.5622860900174502, 1.4138499347041908, 1.5225010690481167, 0.8742174477857728, 1.572027467480773, 1.0282429609210009, 1.1950956896908727, 1.0355518285269085, 1.4546918181468786, 1.4129817127886657, 1.4277325553335285, 1.6872998181630887, 1.5372032921477075, 1.2480008431354688, 1.6949684602137787, 1.7074647733927844, 1.5325504440330249, 1.6646757380891326, 1.3772992145670355, 1.2983096951709292, 1.4396247995968745, 0.853173390534488, 1.8096516248344336, 1.522795398478859, 1.0740500925767122, 1.7032980709975802, 1.747451824206722, 0.8286159456522625, 1.3121959149212976, 1.1342528585201521, 1.517392811568673, 1.3084241914971588, 1.5065750127782278, 1.4239913105482074, 1.514965069362422, 1.4944639205206878, 0.8996448979243825, 1.8473868218330074, 1.0608352445693099, 0.8573953608405008, 1.0510914517792849, 1.281638994426028, 1.1439389834240887, 1.102512709565938, 0.9633221260453976, 1.430611662378573, 1.8330685083520648, 1.6747511759529283, 1.8575423194535865, 1.479613855968307, 0.9673808208126049, 1.5287184908743725, 1.4784073974779954, 0.9818013314466365, 1.10828506687134, 1.0982306432417586, 1.4987024887993878, 1.309299580602075, 1.3688689638470055, 1.5225133472330359, 1.2581433786012588, 1.804644352087627, 1.5301564865263744, 1.5901041412240304, 1.0876176472125487, 1.5027659737703853, 1.6059029295008191, 1.3148078388696165, 1.4716298558344385, 0.9585666843836471, 0.855667564434794, 1.5391840367473204, 1.37822735715958, 1.0319826941765797, 1.1929250274320113, 1.374337896290833, 1.295129746522323, 1.7772098601901716, 1.9380716610272892, 1.6755741735445389, 1.62542242745519, 1.4904568444994064, 1.46347657024298]"
      ],
      "execution_count": null,
      "outputs": []
    },
    {
      "cell_type": "code",
      "metadata": {
        "id": "MIhVZuNDkOdE"
      },
      "source": [
        "Diam1=[ 1.59616801403081, 1.0217907939900581, 1.2716187407449044, 1.104429030701514, 1.2163487785097904, 1.6013445735058454, 1.1715597420637607, 1.2534662333717612, 1.2676073151634049, 1.309600575274104, 1.292966945531582, 1.7658322811231006, 1.3564037533648712, 1.2407040781688483, 2.130217298173151, 1.4228319915327, 1.0651086490865755, 1.3008210311003705, 1.336545951796433, 0.8927754224911278, 1.4494292838262302, 1.4052738287907582, 1.6421697097891783, 1.2329833804288621]"
      ],
      "execution_count": null,
      "outputs": []
    },
    {
      "cell_type": "code",
      "metadata": {
        "id": "TRZTwWBLXaNG",
        "outputId": "aa5c824a-a1ed-48f7-9e17-b7a97b525ff4",
        "colab": {
          "base_uri": "https://localhost:8080/",
          "height": 34
        }
      },
      "source": [
        "Class = np.zeros(9,dtype=int)\n",
        "for item in Diam:\n",
        "  if item > Size[0]:\n",
        "    Class[0] = Class[0]+1 # bigger 16\n",
        "  elif item > Size[1]:\n",
        "    Class[1] = Class[1]+1 # between 16 and  18\n",
        "  elif item > Size[2]:\n",
        "    Class[2] = Class[2]+1 # between 18 and  20\n",
        "  elif item > Size[3]:\n",
        "    Class[3] = Class[3]+1 # between 20 and  25\n",
        "  elif item > Size[4]:\n",
        "    Class[4] = Class[4]+1 # between 25 and  30\n",
        "  elif item > Size[5]:\n",
        "    Class[5] = Class[5]+1 # between 30 and  35    \n",
        "  elif item > Size[6]:\n",
        "    Class[6] = Class[6]+1 # between 35 and  40\n",
        "  elif item > Size[7]:\n",
        "    Class[7] = Class[7]+1 # between 40 and  45\n",
        "  elif item > Size[8]:\n",
        "    Class[8] = Class[8]+1 # between 45 and  70\n",
        "  else:\n",
        "    Class[9] = Class[9]+1 # bigger  70  \n",
        "Class = Class[::-1]\n",
        "print(Class)"
      ],
      "execution_count": null,
      "outputs": [
        {
          "output_type": "stream",
          "text": [
            "[  0   0   0   0   0   5  15  25 105]\n"
          ],
          "name": "stdout"
        }
      ]
    },
    {
      "cell_type": "code",
      "metadata": {
        "id": "aaD2X1Lna2jX",
        "outputId": "12d2fac6-f85e-4536-eb33-d4e459d1a673",
        "colab": {
          "base_uri": "https://localhost:8080/",
          "height": 34
        }
      },
      "source": [
        "Class = np.zeros(3,dtype=int)\n",
        "for item in Diam:\n",
        "  if item > 1.53159875:\n",
        "    Class[0] = Class[0]+1 # bigger 16\n",
        "  elif item > 1.12512583:\n",
        "    Class[1] = Class[1]+1 # between 16 and  18\n",
        "  else:\n",
        "    Class[2] = Class[2]+1 # between 18 and  20\n",
        "print(Class[::-1])"
      ],
      "execution_count": null,
      "outputs": [
        {
          "output_type": "stream",
          "text": [
            "[35 70 45]\n"
          ],
          "name": "stdout"
        }
      ]
    },
    {
      "cell_type": "code",
      "metadata": {
        "id": "jmgoKgKLaTXA",
        "outputId": "2cde17cd-a5e8-494a-a7e8-e931a9cac36d",
        "colab": {
          "base_uri": "https://localhost:8080/",
          "height": 317
        }
      },
      "source": [
        "plt.hist(Diam, 3)"
      ],
      "execution_count": null,
      "outputs": [
        {
          "output_type": "execute_result",
          "data": {
            "text/plain": [
              "(array([35., 70., 45.]),\n",
              " array([0.71865292, 1.12512583, 1.53159875, 1.93807166]),\n",
              " <a list of 3 Patch objects>)"
            ]
          },
          "metadata": {
            "tags": []
          },
          "execution_count": 11
        },
        {
          "output_type": "display_data",
          "data": {
            "image/png": "[encoded data removed]",
            "text/plain": [
              "<Figure size 432x288 with 1 Axes>"
            ]
          },
          "metadata": {
            "tags": [],
            "needs_background": "light"
          }
        }
      ]
    },
    {
      "cell_type": "code",
      "metadata": {
        "id": "LAwcQgNBkZci",
        "outputId": "9dcdcdc0-ea1e-4c12-dd63-061a46087738",
        "colab": {
          "base_uri": "https://localhost:8080/",
          "height": 34
        }
      },
      "source": [
        "Class = np.zeros(9,dtype=int)\n",
        "for item in Diam1:\n",
        "  if item > Size[0]:\n",
        "    Class[0] = Class[0]+1 # bigger 16\n",
        "  elif item > Size[1]:\n",
        "    Class[1] = Class[1]+1 # between 16 and  18\n",
        "  elif item > Size[2]:\n",
        "    Class[2] = Class[2]+1 # between 18 and  20\n",
        "  elif item > Size[3]:\n",
        "    Class[3] = Class[3]+1 # between 20 and  25\n",
        "  elif item > Size[4]:\n",
        "    Class[4] = Class[4]+1 # between 25 and  30\n",
        "  elif item > Size[5]:\n",
        "    Class[5] = Class[5]+1 # between 30 and  35    \n",
        "  elif item > Size[6]:\n",
        "    Class[6] = Class[6]+1 # between 35 and  40\n",
        "  elif item > Size[7]:\n",
        "    Class[7] = Class[7]+1 # between 40 and  45\n",
        "  elif item > Size[8]:\n",
        "    Class[8] = Class[8]+1 # between 45 and  70\n",
        "  else:\n",
        "    Class[9] = Class[9]+1 # bigger  70  \n",
        "Class = Class[::-1]\n",
        "print(Class)"
      ],
      "execution_count": null,
      "outputs": [
        {
          "output_type": "stream",
          "text": [
            "[ 0  0  0  0  0  0  1  4 19]\n"
          ],
          "name": "stdout"
        }
      ]
    },
    {
      "cell_type": "code",
      "metadata": {
        "id": "Pu5iKUYQkbDY",
        "outputId": "d23eaa75-b92b-4aa2-9697-a215c9e2269c",
        "colab": {
          "base_uri": "https://localhost:8080/",
          "height": 34
        }
      },
      "source": [
        "Class = np.zeros(3,dtype=int)\n",
        "for item in Diam1:\n",
        "  if item > 1.53159875:\n",
        "    Class[0] = Class[0]+1 # bigger 16\n",
        "  elif item > 1.12512583:\n",
        "    Class[1] = Class[1]+1 # between 16 and  18\n",
        "  else:\n",
        "    Class[2] = Class[2]+1 # between 18 and  20\n",
        "print(Class[::-1])"
      ],
      "execution_count": null,
      "outputs": [
        {
          "output_type": "stream",
          "text": [
            "[ 4 15  5]\n"
          ],
          "name": "stdout"
        }
      ]
    },
    {
      "cell_type": "code",
      "metadata": {
        "id": "qYeool5ZknDG",
        "outputId": "300c77e2-74e8-4c47-b8a0-72bf2e6bfb60",
        "colab": {
          "base_uri": "https://localhost:8080/",
          "height": 335
        }
      },
      "source": [
        "plt.hist([Diam,Diam1], 3)"
      ],
      "execution_count": null,
      "outputs": [
        {
          "output_type": "execute_result",
          "data": {
            "text/plain": [
              "(array([[44., 76., 30.],\n",
              "        [ 5., 17.,  2.]]),\n",
              " array([0.71865292, 1.18917438, 1.65969584, 2.1302173 ]),\n",
              " <a list of 2 Lists of Patches objects>)"
            ]
          },
          "metadata": {
            "tags": []
          },
          "execution_count": 17
        },
        {
          "output_type": "display_data",
          "data": {
            "image/png": "[encoded data removed]",
            "text/plain": [
              "<Figure size 432x288 with 1 Axes>"
            ]
          },
          "metadata": {
            "tags": [],
            "needs_background": "light"
          }
        }
      ]
    }
  ]
}